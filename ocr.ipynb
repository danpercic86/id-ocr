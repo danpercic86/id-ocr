{
 "cells": [
  {
   "cell_type": "code",
   "execution_count": null,
   "outputs": [],
   "source": [
    "\n",
    "import imutils\n",
    "import numpy as np\n",
    "from cv2 import cv2\n",
    "from numpy.typing import NDArray\n",
    "from pytesseract import pytesseract\n",
    "\n",
    "from src.show import show\n",
    "from src.utils import save\n",
    "\n",
    "roi = [\n",
    "    [(982, 45), (1264, 102), 'Serie'],\n",
    "    [(460, 221), (1218, 274), 'Nume'],\n",
    "    [(463, 305), (1171, 354), 'Prenume'],\n",
    "    [(843, 384), (1019, 434), 'Sex', 'MF'],\n",
    "    [(468, 464), (853, 515), 'Data nașterii', '0123456789'],\n",
    "    [(468, 543), (853, 595), 'Data emiterii', '0123456789'],\n",
    "    [(468, 623), (853, 675), 'Data expirării', '0123456789'],\n",
    "    [(557, 713), (1243, 770), 'Emisă de'],\n",
    "]\n",
    "\n",
    "img: NDArray = cv2.imread('data/fata.jpeg', cv2.IMREAD_GRAYSCALE)\n",
    "height, width = img.shape\n",
    "img = img[:height // 3, :width // 2]\n",
    "\n",
    "template = cv2.imread('templates/template1.jpeg', cv2.IMREAD_GRAYSCALE)"
   ],
   "metadata": {
    "collapsed": false,
    "pycharm": {
     "name": "#%%\n"
    }
   }
  },
  {
   "cell_type": "code",
   "execution_count": null,
   "outputs": [],
   "source": [
    "\n",
    "\n",
    "# orb = cv2.ORB_create(750)\n",
    "detector = cv2.ORB_create(20000)\n",
    "kpts1 = detector.detect(template, None)\n",
    "kpts2 = detector.detect(img, None)\n",
    "\n",
    "orb = cv2.xfeatures2d.BEBLID_create(1)\n",
    "#percentage = 30\n",
    "\n",
    "template_key_points, template_descriptors = orb.compute(template, kpts1)\n",
    "# img_key_points = cv2.drawKeypoints(template, template_key_points, None)\n",
    "img_key_points, img_descriptors = orb.compute(img, kpts2)\n",
    "\n",
    "matcher = cv2.DescriptorMatcher_create(cv2.DescriptorMatcher_BRUTEFORCE_HAMMING)\n",
    "nn_matches = matcher.knnMatch(template_descriptors, img_descriptors, 2)\n",
    "matched1 = []\n",
    "matched2 = []\n",
    "nn_match_ratio = 0.8  # Nearest neighbor matching ratio\n",
    "for m, n in nn_matches:\n",
    "    if m.distance < nn_match_ratio * n.distance:\n",
    "        matched1.append(kpts1[m.queryIdx])\n",
    "        matched2.append(kpts2[m.trainIdx])\n",
    "\n",
    "inliers1 = []\n",
    "inliers2 = []\n",
    "good_matches = []\n",
    "inlier_threshold = 2  # Distance threshold to identify inliers with homography check\n",
    "src_points = np.float32([m.pt for m in matched2]).reshape(-1, 1, 2)\n",
    "dst_points = np.float32([m.pt for m in matched1]).reshape(-1, 1, 2)\n",
    "\n",
    "homography, _ = cv2.findHomography(dst_points, src_points, cv2.RANSAC, 5.0)\n",
    "for i, m in enumerate(matched1):\n",
    "    # Create the homogeneous point\n",
    "    col = np.ones((3, 1), dtype=np.float64)\n",
    "    col[0:2, 0] = m.pt\n",
    "    # Project from image 1 to image 2\n",
    "    col = np.dot(homography, col)\n",
    "    col /= col[2, 0]\n",
    "    # Calculate euclidean distance\n",
    "    dist = np.sqrt(pow(col[0, 0] - matched2[i].pt[0], 2) + pow(col[1, 0] - matched2[i].pt[1], 2))\n",
    "    if dist < inlier_threshold:\n",
    "        good_matches.append(cv2.DMatch(len(inliers1), len(inliers2), 0))\n",
    "        inliers1.append(matched1[i])\n",
    "        inliers2.append(matched2[i])\n",
    "\n",
    "# # create BFMatcher object\n",
    "# bf = cv2.BFMatcher(cv2.NORM_HAMMING)\n",
    "#\n",
    "# # match descriptors\n",
    "# matches: list[DMatch] = bf.match(img_descriptors, template_descriptors)\n",
    "#\n",
    "# # sort them in order of their distance\n",
    "# matches = sorted(matches, key=lambda x: x.distance)\n",
    "#\n",
    "# # draw first \"percentage\" matches. percentage is set to 25\n",
    "# good = matches[:int(len(matches) * (percentage / 100))]\n",
    "# img_match = cv2.drawMatches(img, img_key_points, template, template_key_points, good[:50], None,\n",
    "#                             flags=cv2.DrawMatchesFlags_NOT_DRAW_SINGLE_POINTS)\n",
    "\n",
    "res = np.empty((max(template.shape[0], img.shape[0]), template.shape[1] + img.shape[1], 3), dtype=np.uint8)\n",
    "img_match = cv2.drawMatches(template, inliers1, img, inliers2, good_matches, res)\n",
    "show(img_match)"
   ],
   "metadata": {
    "collapsed": false,
    "pycharm": {
     "name": "#%%\n"
    }
   }
  },
  {
   "cell_type": "code",
   "execution_count": null,
   "outputs": [],
   "source": [
    "# we take all the points in our good matches list and we use them\n",
    "# to align the corners of our input image\n",
    "src_points = np.float32([inliers2[m.queryIdx].pt for m in good_matches]).reshape(-1, 1, 2)\n",
    "dst_points = np.float32([inliers1[m.trainIdx].pt for m in good_matches]).reshape(-1, 1, 2)\n",
    "\n",
    "homography, _ = cv2.findHomography(src_points, dst_points, cv2.RANSAC, 5.0)"
   ],
   "metadata": {
    "collapsed": false,
    "pycharm": {
     "name": "#%%\n"
    }
   }
  },
  {
   "cell_type": "code",
   "execution_count": null,
   "outputs": [],
   "source": [
    "height, width = template.shape\n",
    "img_scan = cv2.warpPerspective(img, homography, (width, height))\n",
    "\n",
    "save('1.img_scan', img_scan)\n",
    "show(img_scan)"
   ],
   "metadata": {
    "collapsed": false,
    "pycharm": {
     "name": "#%%\n"
    }
   }
  },
  {
   "cell_type": "code",
   "execution_count": null,
   "outputs": [],
   "source": [
    "img_show = img_scan.copy()\n",
    "img_mask = np.zeros_like(img_show)"
   ],
   "metadata": {
    "collapsed": false,
    "pycharm": {
     "name": "#%%\n"
    }
   }
  },
  {
   "cell_type": "code",
   "execution_count": null,
   "outputs": [],
   "source": [
    "for x, r in enumerate(roi):\n",
    "    cv2.rectangle(img_mask, (r[0][0], r[0][1]), (r[1][0], r[1][1]), (0, 255, 0), 2)\n",
    "    img_show = cv2.addWeighted(img_show, 0.99, img_mask, 0.1, 0)\n",
    "    img_crop = img_scan[r[0][1]:r[1][1], r[0][0]:r[1][0]]\n",
    "    # img_crop = cv2.cvtColor(img_crop, cv2.COLOR_BGR2GRAY)\n",
    "    thresh = cv2.threshold(img_crop, 0, 255, cv2.THRESH_BINARY_INV + cv2.THRESH_OTSU)[1]\n",
    "\n",
    "    # apply a distance transform which calculates the distance to the\n",
    "    # closest zero pixel for each pixel in the input image\n",
    "    dist = cv2.distanceTransform(thresh, cv2.DIST_L2, 0)\n",
    "    # normalize the distance transform such that the distances lie in\n",
    "    # the range [0, 1] and then convert the distance transform back to\n",
    "    # an unsigned 8-bit integer in the range [0, 255]\n",
    "    dist = cv2.normalize(dist, dist, 0, 1, cv2.NORM_MINMAX)\n",
    "    dist = (dist * 255).astype(\"uint8\")\n",
    "    # threshold the distance transform using Otsu's method\n",
    "    dist = cv2.threshold(dist, 0, 255, cv2.THRESH_BINARY | cv2.THRESH_OTSU)[1]\n",
    "\n",
    "    kernel = cv2.getStructuringElement(cv2.MORPH_ELLIPSE, (1, 1))\n",
    "    opening = cv2.morphologyEx(dist, cv2.MORPH_OPEN, kernel)\n",
    "\n",
    "    # find contours in the opening image, then initialize the list of\n",
    "    # contours which belong to actual characters that we will be OCR'ing\n",
    "    cnts = cv2.findContours(dist.copy(), cv2.RETR_EXTERNAL, cv2.CHAIN_APPROX_SIMPLE)\n",
    "    cnts = imutils.grab_contours(cnts)\n",
    "    chars = []\n",
    "    for c in cnts:\n",
    "        # compute the bounding box of the contour\n",
    "        # compute the bounding box of the contour\n",
    "        (x, y, w, h) = cv2.boundingRect(c)\n",
    "        # check if contour is at least 35px wide and 100px tall, and if\n",
    "        # so, consider the contour a digit\n",
    "        if w >= 10 and h >= 15:\n",
    "            chars.append(c)\n",
    "\n",
    "    # compute the convex hull of the characters\n",
    "    chars = np.vstack([chars[i] for i in range(0, len(chars))])\n",
    "    hull = cv2.convexHull(chars)\n",
    "    # allocate memory for the convex hull mask, draw the convex hull on\n",
    "    # the image, and then enlarge it via a dilation\n",
    "    mask = np.zeros(img_crop.shape[:2], dtype=\"uint8\")\n",
    "    cv2.drawContours(mask, [hull], -1, 255, -1)\n",
    "    mask = cv2.dilate(mask, None, iterations=2)\n",
    "    cv2.imshow(\"Mask\", mask)\n",
    "    # take the bitwise of the opening image and the mask to reveal *just*\n",
    "    # the characters in the image\n",
    "    final = cv2.bitwise_and(opening, opening, mask=mask)\n",
    "\n",
    "    show(final)\n",
    "    save(r[2], final)\n",
    "    config = '--psm 8'\n",
    "    if len(r) >= 4:\n",
    "        config += f' -c tessedit_char_whitelist={r[3]}'\n",
    "\n",
    "    print(config)\n",
    "    print(f\"{r[2]} : {pytesseract.image_to_string(final, lang='ron', config=config)}\")"
   ],
   "metadata": {
    "collapsed": false,
    "pycharm": {
     "name": "#%%\n"
    }
   }
  },
  {
   "cell_type": "code",
   "execution_count": null,
   "outputs": [],
   "source": [
    "blur = cv2.GaussianBlur(img, (0, 0), sigmaX=33, sigmaY=33)\n",
    "save('2.blured', blur)\n",
    "show(cv2.bitwise_not(img))"
   ],
   "metadata": {
    "collapsed": false,
    "pycharm": {
     "name": "#%%\n"
    }
   }
  },
  {
   "cell_type": "code",
   "execution_count": null,
   "outputs": [],
   "source": [
    "img = cv2.divide(img, blur, scale=255)\n",
    "save('3.divided', img)\n",
    "show(cv2.bitwise_not(img))"
   ],
   "metadata": {
    "collapsed": false,
    "pycharm": {
     "name": "#%%\n"
    }
   }
  },
  {
   "cell_type": "code",
   "execution_count": null,
   "outputs": [],
   "source": [
    "img = cv2.threshold(img, 0, 255, cv2.THRESH_BINARY + cv2.THRESH_OTSU)[1]\n",
    "save('4.thresholded', img)\n",
    "show(cv2.bitwise_not(img))"
   ],
   "metadata": {
    "collapsed": false,
    "pycharm": {
     "name": "#%%\n"
    }
   }
  },
  {
   "cell_type": "code",
   "execution_count": null,
   "outputs": [],
   "source": [
    "lang = \"ron\"\n",
    "config = \"--psm 11 --oem 1\"\n",
    "text = pytesseract.image_to_string(img, lang=lang, config=config)\n",
    "print(text)"
   ],
   "metadata": {
    "collapsed": false,
    "pycharm": {
     "name": "#%%\n"
    }
   }
  },
  {
   "cell_type": "code",
   "execution_count": null,
   "outputs": [],
   "source": [],
   "metadata": {
    "collapsed": false,
    "pycharm": {
     "name": "#%%\n"
    }
   }
  }
 ],
 "metadata": {
  "kernelspec": {
   "display_name": "Python 3",
   "language": "python",
   "name": "python3"
  },
  "language_info": {
   "codemirror_mode": {
    "name": "ipython",
    "version": 2
   },
   "file_extension": ".py",
   "mimetype": "text/x-python",
   "name": "python",
   "nbconvert_exporter": "python",
   "pygments_lexer": "ipython2",
   "version": "2.7.6"
  }
 },
 "nbformat": 4,
 "nbformat_minor": 0
}