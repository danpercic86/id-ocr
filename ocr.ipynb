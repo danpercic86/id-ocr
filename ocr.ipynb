{
 "cells": [
  {
   "cell_type": "code",
   "execution_count": null,
   "metadata": {
    "collapsed": true
   },
   "outputs": [],
   "source": [
    "from typing import Union\n",
    "\n",
    "from cv2 import cv2\n",
    "import matplotlib\n",
    "import numpy as np\n",
    "from matplotlib import pyplot as plt\n",
    "\n",
    "\n",
    "def load(filename: str) -> np.ndarray:\n",
    "    return cv2.imread(f'data/{filename}')\n",
    "\n",
    "\n",
    "def save(filename: str, image: np.ndarray) -> None:\n",
    "    cv2.imwrite(f'results/{filename}.jpg', image)\n",
    "\n",
    "\n",
    "#https://stackoverflow.com/questions/28816046/\n",
    "#displaying-different-images-with-actual-size-in-matplotlib-subplot\n",
    "def show(src: Union[str, np.ndarray]) -> None:\n",
    "    dpi = matplotlib.rcParams['figure.dpi']\n",
    "\n",
    "    def _get_image() -> np.ndarray:\n",
    "        if isinstance(src, str):\n",
    "            return plt.imread(f'results/{src}.jpg')\n",
    "        return src\n",
    "\n",
    "    image = _get_image()\n",
    "\n",
    "    height, width = image.shape[:2]\n",
    "\n",
    "    # What size does the figure need to be in inches to fit the image?\n",
    "    figure_size = width / float(dpi), height / float(dpi)\n",
    "\n",
    "    # Create a figure of the right size with one axes that takes up the full figure\n",
    "    fig = plt.figure(figsize=figure_size)\n",
    "    ax = fig.add_axes([0, 0, 1, 1])\n",
    "\n",
    "    # Display the image.\n",
    "    ax.imshow(image, cmap='gray')\n",
    "    plt.show()\n"
   ]
  },
  {
   "cell_type": "code",
   "execution_count": null,
   "outputs": [],
   "source": [
    "img = load('fata.jpeg')\n",
    "img = img[0:300, 0:400]\n",
    "img = cv2.cvtColor(img, cv2.COLOR_BGR2GRAY)\n",
    "save('1.gray', img)\n",
    "show(cv2.bitwise_not(img))"
   ],
   "metadata": {
    "collapsed": false,
    "pycharm": {
     "name": "#%%\n"
    }
   }
  },
  {
   "cell_type": "code",
   "execution_count": null,
   "outputs": [],
   "source": [
    "blur = cv2.GaussianBlur(img, (0, 0), sigmaX=33, sigmaY=33)\n",
    "save('2.blured', blur)\n",
    "show(cv2.bitwise_not(img))"
   ],
   "metadata": {
    "collapsed": false,
    "pycharm": {
     "name": "#%%\n"
    }
   }
  },
  {
   "cell_type": "code",
   "execution_count": null,
   "outputs": [],
   "source": [
    "img = cv2.divide(img, blur, scale=255)\n",
    "save('3.divided', img)\n",
    "show(cv2.bitwise_not(img))"
   ],
   "metadata": {
    "collapsed": false,
    "pycharm": {
     "name": "#%%\n"
    }
   }
  },
  {
   "cell_type": "code",
   "execution_count": null,
   "outputs": [],
   "source": [
    "img = cv2.threshold(img, 0, 255, cv2.THRESH_BINARY + cv2.THRESH_OTSU)[1]\n",
    "save('4.thresholded', img)\n",
    "show(cv2.bitwise_not(img))"
   ],
   "metadata": {
    "collapsed": false,
    "pycharm": {
     "name": "#%%\n"
    }
   }
  },
  {
   "cell_type": "code",
   "execution_count": null,
   "outputs": [],
   "source": [
    "from pytesseract import pytesseract\n",
    "\n",
    "lang = \"ron\"\n",
    "config = \"--psm 11 --oem 1\"\n",
    "text = pytesseract.image_to_string(img, lang=lang, config=config)\n",
    "print(text)"
   ],
   "metadata": {
    "collapsed": false,
    "pycharm": {
     "name": "#%%\n"
    }
   }
  },
  {
   "cell_type": "code",
   "execution_count": null,
   "outputs": [],
   "source": [],
   "metadata": {
    "collapsed": false,
    "pycharm": {
     "name": "#%%\n"
    }
   }
  }
 ],
 "metadata": {
  "kernelspec": {
   "display_name": "Python 3",
   "language": "python",
   "name": "python3"
  },
  "language_info": {
   "codemirror_mode": {
    "name": "ipython",
    "version": 2
   },
   "file_extension": ".py",
   "mimetype": "text/x-python",
   "name": "python",
   "nbconvert_exporter": "python",
   "pygments_lexer": "ipython2",
   "version": "2.7.6"
  }
 },
 "nbformat": 4,
 "nbformat_minor": 0
}